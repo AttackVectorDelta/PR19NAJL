{
 "cells": [
  {
   "cell_type": "code",
   "execution_count": 43,
   "metadata": {},
   "outputs": [],
   "source": [
    "import numpy as np\n",
    "import pandas as pd\n",
    "from csv import DictReader\n",
    "import operator"
   ]
  },
  {
   "cell_type": "code",
   "execution_count": 57,
   "metadata": {},
   "outputs": [],
   "source": [
    "vozila = DictReader(open('vozila.csv', 'rt', encoding='UTF-8'), delimiter=\"\"\",\"\"\")\n",
    "\n",
    "#vozilaArray = []\n",
    "\n",
    "porazdelitevZnamkSkoziLeta = dict()\n",
    "tipiMotorjevSkoziLeta = dict()\n",
    "starostiLastnikov = dict()\n",
    "registracijeNaLeto = dict()\n",
    "\n",
    "for row in vozila:\n",
    "    #vozilo = dict()\n",
    "    \n",
    "    #vozilo[\"datumPrveReg\"] = row[\"B-Datum prve registracije vozila\"]\n",
    "    #vozilo[\"datumPrveRegSLO\"] = row[\"2A-Datum prve registracije vozila v SLO\"]\n",
    "    #vozilo[\"regObmocjeTablice\"] = row[\"4A-Registrsko obmocje tablice prve registracije\"]\n",
    "    #vozilo[\"starostUporabnik\"] = row[\"C-Starost uporabnika vozila\"]\n",
    "    #vozilo[\"tipUporabnik\"] = row[\"C-Ali je uporabnik pravna ali fizicna oseba\"]\n",
    "    #vozilo[\"jeUporabnikLastnik\"] = row[\"C-Ali je uporabnik tudi lastnik vozila\"]\n",
    "    #vozilo[\"obcinaUporabnika\"] = row[\"C1.3-Obcina uporabnika vozila (opis)\"]\n",
    "    #vozilo[\"starostLastnik\"] = row[\"C2-Starost lastnika vozila\"]\n",
    "    #vozilo[\"tipLastnik\"] = row[\"C2-Ali je lastnik pravna ali fizicna oseba\"]\n",
    "    #vozilo[\"znamka\"] = row[\"D.1-Znamka\"]\n",
    "    #vozilo[\"model\"] = row[\"Komerc. oznaka  do prvega /\"]\n",
    "    #vozilo[\"letoIzdelave\"] = row[\"5A-Leto izdelave\"]\n",
    "    #vozilo[\"komercialnaOznaka\"] = row[\"D.3-Komerc. oznaka\"]\n",
    "    #vozilo[\"drzavaPorekla\"] = row[\"D.4.2-Drzava (koda)\"]\n",
    "    #vozilo[\"masa\"] = row[\"G-Masa vozila\"]\n",
    "    #vozilo[\"prostorninaMotorja\"] = row[\"P.1.1-Delovna prostornina\"]\n",
    "    #vozilo[\"mocMototrja\"] = row[\"P.1.2-Nazivna moc\"]\n",
    "    #vozilo[\"vrstaGoriva\"] = row[\"P.1.3-Vrsta goriva (oznaka)\"]\n",
    "    #vozilo[\"barvaVozila\"] = row[\"R-Barva vozila (opis)\"]\n",
    "    #vozilo[\"steviloSedezev\"] = row[\"S.1-Stevilo sedezev (vkljucno z vozniskim)\"]\n",
    "    #vozilo[\"oznakaEURO\"] = row[\"Okoljevarstvena oznaka\"]\n",
    "    #vozilaArray.append(vozilo)\n",
    "    \n",
    "    if(row[\"D.1-Znamka\"] in porazdelitevZnamk):\n",
    "        porazdelitevZnamk[row[\"D.1-Znamka\"]]=porazdelitevZnamk[row[\"D.1-Znamka\"]]+1\n",
    "    else:\n",
    "        porazdelitevZnamk[row[\"D.1-Znamka\"]]=1\n",
    "    \n",
    "    if(len(row[\"2A-Datum prve registracije vozila v SLO\"].split(\".\"))==3):\n",
    "        day, month, year = row[\"2A-Datum prve registracije vozila v SLO\"].split(\".\")\n",
    "\n",
    "        if(year in tipiMotorjevSkoziLeta):\n",
    "            if(row[\"P.1.3-Vrsta goriva (oznaka)\"] in tipiMotorjevSkoziLeta[year]):\n",
    "                tipiMotorjevSkoziLeta[year][row[\"P.1.3-Vrsta goriva (oznaka)\"]]=tipiMotorjevSkoziLeta[year][row[\"P.1.3-Vrsta goriva (oznaka)\"]]+1\n",
    "            else:\n",
    "                tipiMotorjevSkoziLeta[year][row[\"P.1.3-Vrsta goriva (oznaka)\"]]=1\n",
    "\n",
    "        else:\n",
    "            tipiMotorjevSkoziLeta[year] = dict()\n",
    "            tipiMotorjevSkoziLeta[year][row[\"P.1.3-Vrsta goriva (oznaka)\"]]=1\n",
    "            \n",
    "    if(row[\"C2-Starost lastnika vozila\"] in starostiLastnikov):\n",
    "        starostiLastnikov[row[\"C2-Starost lastnika vozila\"]]=starostiLastnikov[row[\"C2-Starost lastnika vozila\"]]+1\n",
    "    else:\n",
    "        starostiLastnikov[row[\"C2-Starost lastnika vozila\"]]=1\n",
    "        \n",
    "    if(len(row[\"2A-Datum prve registracije vozila v SLO\"].split(\".\"))==3):\n",
    "        day, month, year = row[\"2A-Datum prve registracije vozila v SLO\"].split(\".\")\n",
    "\n",
    "        if(year in registracijeNaLeto):\n",
    "            registracijeNaLeto[year]=registracijeNaLeto[year]+1\n",
    "\n",
    "        else:\n",
    "            registracijeNaLeto[year]=1\n",
    "    \n"
   ]
  },
  {
   "cell_type": "code",
   "execution_count": 61,
   "metadata": {},
   "outputs": [
    {
     "name": "stdout",
     "output_type": "stream",
     "text": [
      "[('1959', 1), ('1960', 3), ('1961', 8), ('1962', 3), ('1963', 1), ('1964', 1), ('1965', 12), ('1966', 13), ('1967', 26), ('1968', 36), ('1969', 24), ('1970', 50), ('1971', 81), ('1972', 56), ('1973', 55), ('1974', 87), ('1975', 106), ('1976', 1266), ('1977', 493), ('1978', 269), ('1979', 290), ('1980', 192), ('1981', 171), ('1982', 207), ('1983', 168), ('1984', 250), ('1985', 297), ('1986', 384), ('1987', 602), ('1988', 586), ('1989', 688), ('1990', 1310), ('1991', 1527), ('1992', 1111), ('1993', 2083), ('1994', 2529), ('1995', 4372), ('1996', 5999), ('1997', 7965), ('1998', 11960), ('1999', 20229), ('2000', 20217), ('2001', 20423), ('2002', 23106), ('2003', 29967), ('2004', 35363), ('2005', 34334), ('2006', 34563), ('2007', 39333), ('2008', 40575), ('2009', 34729), ('2010', 31565), ('2011', 30612), ('2012', 29038), ('2013', 31107), ('2014', 33924), ('2015', 40177), ('2016', 47825), ('2017', 54336), ('2018', 54548)]\n"
     ]
    }
   ],
   "source": [
    "#sorted_znamke = sorted(porazdelitevZnamk.items(), key=operator.itemgetter(1), reverse=True)\n",
    "#print(sorted_znamke)\n",
    "\n",
    "#sorted_starosti = sorted(starostiLastnikov.items(), key=operator.itemgetter(1), reverse=True)\n",
    "#print(sorted_srarosti)\n",
    "\n",
    "#sorted_registracije = sorted(registracijeNaLeto.items(), key=operator.itemgetter(0))\n",
    "#print(sorted_registracije)"
   ]
  },
  {
   "cell_type": "code",
   "execution_count": null,
   "metadata": {},
   "outputs": [],
   "source": []
  }
 ],
 "metadata": {
  "kernelspec": {
   "display_name": "Python 3",
   "language": "python",
   "name": "python3"
  },
  "language_info": {
   "codemirror_mode": {
    "name": "ipython",
    "version": 3
   },
   "file_extension": ".py",
   "mimetype": "text/x-python",
   "name": "python",
   "nbconvert_exporter": "python",
   "pygments_lexer": "ipython3",
   "version": "3.7.3"
  }
 },
 "nbformat": 4,
 "nbformat_minor": 2
}
